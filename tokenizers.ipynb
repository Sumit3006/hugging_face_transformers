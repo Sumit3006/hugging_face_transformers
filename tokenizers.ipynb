{
  "nbformat": 4,
  "nbformat_minor": 0,
  "metadata": {
    "colab": {
      "provenance": [],
      "gpuType": "T4",
      "authorship_tag": "ABX9TyOwL6s0gFQyiDUNHonBbxqn",
      "include_colab_link": true
    },
    "kernelspec": {
      "name": "python3",
      "display_name": "Python 3"
    },
    "language_info": {
      "name": "python"
    },
    "accelerator": "GPU"
  },
  "cells": [
    {
      "cell_type": "markdown",
      "metadata": {
        "id": "view-in-github",
        "colab_type": "text"
      },
      "source": [
        "<a href=\"https://colab.research.google.com/github/Sumit3006/hugging_face_transformers/blob/main/tokenizers.ipynb\" target=\"_parent\"><img src=\"https://colab.research.google.com/assets/colab-badge.svg\" alt=\"Open In Colab\"/></a>"
      ]
    },
    {
      "cell_type": "code",
      "execution_count": 1,
      "metadata": {
        "id": "lELerPVqpFe3"
      },
      "outputs": [],
      "source": [
        "from google.colab import userdata;\n",
        "from huggingface_hub import login;\n",
        "from transformers import AutoTokenizer, AutoModelForSeq2SeqLM;"
      ]
    },
    {
      "cell_type": "code",
      "source": [
        "hf_token = userdata.get('HF_TOKEN');\n",
        "login(hf_token, add_to_git_credential=True);"
      ],
      "metadata": {
        "id": "jr_E7G5bsn7W"
      },
      "execution_count": 3,
      "outputs": []
    },
    {
      "cell_type": "code",
      "source": [
        "tokenizer=AutoTokenizer.from_pretrained(\"facebook/nllb-200-distilled-600M\", use_auth_token=True)"
      ],
      "metadata": {
        "colab": {
          "base_uri": "https://localhost:8080/"
        },
        "id": "F-3JdG9KtNlV",
        "outputId": "b29fe524-a239-4e92-868f-ea7bcd451b92"
      },
      "execution_count": 7,
      "outputs": [
        {
          "output_type": "stream",
          "name": "stderr",
          "text": [
            "/usr/local/lib/python3.11/dist-packages/transformers/models/auto/tokenization_auto.py:823: FutureWarning: The `use_auth_token` argument is deprecated and will be removed in v5 of Transformers. Please use `token` instead.\n",
            "  warnings.warn(\n"
          ]
        }
      ]
    },
    {
      "cell_type": "code",
      "source": [
        "text = \"I am excited to show tokens to LLM Engineers and Show Tokenizers\";\n",
        "tokens=tokenizer.encode(text);\n",
        "tokens"
      ],
      "metadata": {
        "colab": {
          "base_uri": "https://localhost:8080/"
        },
        "id": "zjLJIqgHthfz",
        "outputId": "a1545685-c11d-4f90-b15e-3c13d49784a7"
      },
      "execution_count": 10,
      "outputs": [
        {
          "output_type": "execute_result",
          "data": {
            "text/plain": [
              "[256047,\n",
              " 117,\n",
              " 259,\n",
              " 100665,\n",
              " 202,\n",
              " 24054,\n",
              " 1776,\n",
              " 585,\n",
              " 202,\n",
              " 82584,\n",
              " 248097,\n",
              " 69371,\n",
              " 1044,\n",
              " 540,\n",
              " 48861,\n",
              " 15652,\n",
              " 35515,\n",
              " 1044,\n",
              " 2]"
            ]
          },
          "metadata": {},
          "execution_count": 10
        }
      ]
    },
    {
      "cell_type": "code",
      "source": [
        "tokenizer.batch_decode(tokens)"
      ],
      "metadata": {
        "colab": {
          "base_uri": "https://localhost:8080/"
        },
        "id": "UQiKQYBbyn_j",
        "outputId": "b3fb855a-2d26-40c2-a4e6-8bb85addd490"
      },
      "execution_count": 13,
      "outputs": [
        {
          "output_type": "execute_result",
          "data": {
            "text/plain": [
              "['eng_Latn',\n",
              " 'I',\n",
              " 'am',\n",
              " 'excited',\n",
              " 'to',\n",
              " 'show',\n",
              " 'tok',\n",
              " 'ens',\n",
              " 'to',\n",
              " 'LL',\n",
              " 'M',\n",
              " 'Engine',\n",
              " 'ers',\n",
              " 'and',\n",
              " 'Show',\n",
              " 'Tok',\n",
              " 'eniz',\n",
              " 'ers',\n",
              " '</s>']"
            ]
          },
          "metadata": {},
          "execution_count": 13
        }
      ]
    },
    {
      "cell_type": "code",
      "source": [
        "tokenizer.decode(tokens)"
      ],
      "metadata": {
        "colab": {
          "base_uri": "https://localhost:8080/",
          "height": 35
        },
        "id": "rXbEHjY3zQNz",
        "outputId": "d6f797cd-1c23-43d9-d254-03c8a7794c68"
      },
      "execution_count": 14,
      "outputs": [
        {
          "output_type": "execute_result",
          "data": {
            "text/plain": [
              "'eng_Latn I am excited to show tokens to LLM Engineers and Show Tokenizers</s>'"
            ],
            "application/vnd.google.colaboratory.intrinsic+json": {
              "type": "string"
            }
          },
          "metadata": {},
          "execution_count": 14
        }
      ]
    }
  ]
}